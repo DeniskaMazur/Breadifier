{
 "cells": [
  {
   "cell_type": "code",
   "execution_count": 1,
   "metadata": {},
   "outputs": [
    {
     "name": "stdout",
     "output_type": "stream",
     "text": [
      "env: THEANO_FLAGS=device=gpu6, lib.cnmem=0.95\n"
     ]
    },
    {
     "name": "stderr",
     "output_type": "stream",
     "text": [
      "WARNING (theano.sandbox.cuda): The cuda backend is deprecated and will be removed in the next release (v0.10).  Please switch to the gpuarray backend. You can get more information about how to switch at this URL:\n",
      " https://github.com/Theano/Theano/wiki/Converting-to-the-new-gpu-back-end%28gpuarray%29\n",
      "\n",
      "Using gpu device 6: GeForce GTX 1080 (CNMeM is enabled with initial size: 95.0% of memory, cuDNN 5110)\n"
     ]
    }
   ],
   "source": [
    "%env THEANO_FLAGS=device=gpu6, lib.cnmem=0.95\n",
    "\n",
    "from IPython.display import clear_output\n",
    "\n",
    "import theano\n",
    "import theano.tensor as T\n",
    "\n",
    "import lasagne\n",
    "\n",
    "import os\n",
    "from preproc import pics2array\n",
    "\n",
    "import matplotlib.pyplot as plt\n",
    "%matplotlib inline"
   ]
  },
  {
   "cell_type": "code",
   "execution_count": 2,
   "metadata": {
    "collapsed": true
   },
   "outputs": [],
   "source": [
    "from lasagne.layers import get_output, get_all_layers, get_all_params\n",
    "\n",
    "from lasagne.layers import Conv2DLayer as ConvLayer\n",
    "from lasagne.layers import Deconv2DLayer as DeconvLayer\n",
    "from lasagne.layers import Pool2DLayer as PoolLayer\n",
    "from lasagne.layers import DenseLayer, InputLayer\n",
    "\n",
    "from lasagne.updates import adam\n",
    "\n",
    "from lasagne.nonlinearities  import LeakyRectify, sigmoid\n",
    "lref = LeakyRectify(0.2)"
   ]
  },
  {
   "cell_type": "code",
   "execution_count": 3,
   "metadata": {
    "collapsed": true
   },
   "outputs": [],
   "source": [
    "def buildGenerator(input_shape, input_var=None, n_base_filter=32):\n",
    "    net = {}\n",
    "    \n",
    "    net[\"input\"] = InputLayer(input_shape, input_var)\n",
    "    \n",
    "    net[\"downs_1\"] = ConvLayer(net[\"input\"], n_base_filter, 4)\n",
    "    net[\"downs_2\"] = ConvLayer(net[\"downs_1\"], n_base_filter*2, 4)\n",
    "    net[\"downs_3\"] = ConvLayer(net[\"downs_2\"], n_base_filter*4, 4)\n",
    "    net[\"downs_4\"] = ConvLayer(net[\"downs_3\"], n_base_filter*8, 4)\n",
    "    \n",
    "    net[\"upsc_1\"] = DeconvLayer(net[\"downs_4\"], n_base_filter*8, 4)\n",
    "    net[\"upsc_2\"] = DeconvLayer(net[\"upsc_1\"], n_base_filter*4, 4)\n",
    "    net[\"upsc_3\"] = DeconvLayer(net[\"upsc_2\"], n_base_filter*2, 4)\n",
    "    net[\"output\"] = DeconvLayer(net[\"upsc_3\"], input_shape[1], 4, nonlinearity=None)\n",
    "    \n",
    "    return net"
   ]
  },
  {
   "cell_type": "code",
   "execution_count": 4,
   "metadata": {
    "collapsed": true
   },
   "outputs": [],
   "source": [
    "def buildDiscriminator(input_shape, input_var=None, n_base_filter=32):\n",
    "    net = {}\n",
    "    \n",
    "    net[\"input\"] = InputLayer(input_shape, input_var)\n",
    "    \n",
    "    net[\"downs_1\"] = ConvLayer(net[\"input\"], n_base_filter, 4, nonlinearity=lref)\n",
    "    net[\"downs_2\"] = ConvLayer(net[\"downs_1\"], n_base_filter*2, 4, nonlinearity=lref)\n",
    "    net[\"downs_3\"] = ConvLayer(net[\"downs_2\"], n_base_filter*4, 4, nonlinearity=lref)\n",
    "    net[\"downs_4\"] = ConvLayer(net[\"downs_3\"], n_base_filter*8, 4, nonlinearity=lref)\n",
    "    \n",
    "    net[\"dense_1\"] = DenseLayer(net[\"downs_4\"], 256, nonlinearity=lref)\n",
    "    net[\"output\"] = DenseLayer(net[\"dense_1\"], 1, nonlinearity=sigmoid)\n",
    "    \n",
    "    return net"
   ]
  },
  {
   "cell_type": "code",
   "execution_count": 5,
   "metadata": {
    "collapsed": true
   },
   "outputs": [],
   "source": [
    "PIC_DIMS = [None, 3, 64, 64]\n",
    "\n",
    "inputA = T.tensor4(\"Input of Domain A\")\n",
    "inputB = T.tensor4(\"Input of Domain B\")\n",
    "\n",
    "generatorAB = buildGenerator(PIC_DIMS, inputA)\n",
    "generatorBA = buildGenerator(PIC_DIMS, inputB)\n",
    "\n",
    "discriminatorA = buildDiscriminator(PIC_DIMS)\n",
    "discriminatorB = buildDiscriminator(PIC_DIMS)"
   ]
  },
  {
   "cell_type": "code",
   "execution_count": 6,
   "metadata": {},
   "outputs": [],
   "source": [
    "outputAB = get_output(generatorAB[\"output\"], {generatorAB[\"input\"] : inputA})\n",
    "outputBA = get_output(generatorBA[\"output\"], {generatorBA[\"input\"] : inputB})\n",
    "\n",
    "outputABA = get_output(generatorBA[\"output\"], {generatorBA[\"input\"] : outputAB})\n",
    "outputBAB = get_output(generatorAB[\"output\"], {generatorAB[\"input\"] : outputBA})\n",
    "\n",
    "fake_output_prob_a = get_output(discriminatorA[\"output\"], {discriminatorA[\"input\"] : outputBA})\n",
    "legit_output_prob_a = get_output(discriminatorA[\"output\"], {discriminatorA[\"input\"] : inputA})\n",
    "\n",
    "fake_output_prob_b = get_output(discriminatorB[\"output\"], {discriminatorB[\"input\"] : outputAB})\n",
    "legit_output_prob_b = get_output(discriminatorB[\"output\"], {discriminatorB[\"input\"] : inputB})"
   ]
  },
  {
   "cell_type": "code",
   "execution_count": 7,
   "metadata": {
    "collapsed": true
   },
   "outputs": [],
   "source": [
    "GA_params = get_all_params(generatorAB[\"output\"], trainable=True)\n",
    "GB_params = get_all_params(generatorBA[\"output\"], trainable=True)\n",
    "DA_params = get_all_params(discriminatorA[\"output\"], trainable=True)\n",
    "DB_params = get_all_params(discriminatorB[\"output\"], trainable=True)"
   ]
  },
  {
   "cell_type": "code",
   "execution_count": 8,
   "metadata": {
    "collapsed": true
   },
   "outputs": [],
   "source": [
    "LAMBDA = 100\n",
    "\n",
    "A_l1 = T.abs_(inputA - outputABA).mean()\n",
    "B_l1 = T.abs_(inputB - outputBAB).mean()\n",
    "\n",
    "A_discr = -(T.log(fake_output_prob_a)).mean()\n",
    "B_discr = -(T.log(fake_output_prob_b)).mean()\n",
    "\n",
    "genA_loss = A_l1 * LAMBDA + A_discr\n",
    "genB_loss = B_l1 * LAMBDA + B_discr\n",
    "\n",
    "discrA_loss = -(T.log(legit_output_prob_a) + T.log(1 - fake_output_prob_a)).mean()\n",
    "discrB_loss = -(T.log(legit_output_prob_b) + T.log(1 - fake_output_prob_b)).mean()"
   ]
  },
  {
   "cell_type": "code",
   "execution_count": 9,
   "metadata": {},
   "outputs": [],
   "source": [
    "ADAM_PARAMS = {\"learning_rate\" : 2e-4, \"beta1\" : 0.5}\n",
    "\n",
    "updates = adam(genA_loss, GA_params, **ADAM_PARAMS)\n",
    "updates.update(adam(genB_loss, GB_params, **ADAM_PARAMS))\n",
    "updates.update(adam(discrA_loss, DA_params, **ADAM_PARAMS))\n",
    "updates.update(adam(discrB_loss, DB_params, **ADAM_PARAMS))"
   ]
  },
  {
   "cell_type": "code",
   "execution_count": 10,
   "metadata": {
    "collapsed": true
   },
   "outputs": [],
   "source": [
    "train_fun = theano.function([inputA, inputB], [A_l1, A_discr, B_l1, B_discr, discrA_loss, discrB_loss],\n",
    "                           updates=updates, allow_input_downcast=True)"
   ]
  },
  {
   "cell_type": "code",
   "execution_count": null,
   "metadata": {
    "collapsed": true
   },
   "outputs": [],
   "source": [
    "#load data\n",
    "\n",
    "x = [pic for pic in os.listdir(\"data/\") if pic.split(\".\")[-1] == \"jpg\"]\n",
    "y = [pic for pic in os.listdir(\"data/\") if pic.split(\".\")[-1] == \"png\"]\n",
    "\n",
    "x = pics2array(\"data/\", sorted(x), PIC_DIMS[2:])\n",
    "y = pics2array(\"data/\", sorted(y), PIC_DIMS[2:])"
   ]
  },
  {
   "cell_type": "code",
   "execution_count": null,
   "metadata": {},
   "outputs": [
    {
     "name": "stdout",
     "output_type": "stream",
     "text": [
      "0\n"
     ]
    }
   ],
   "source": [
    "N_EPOCHS = 200\n",
    "BATCH_SIZE = 1\n",
    "\n",
    "for epoch in range(N_EPOCHS):\n",
    "    clear_output()\n",
    "    print(epoch)\n",
    "    \n",
    "    for i in range(0, len(x) - BATCH_SIZE, BATCH_SIZE):\n",
    "        train_fun(x[i : i + BATCH_SIZE], y[i : i + BATCH_SIZE])"
   ]
  },
  {
   "cell_type": "code",
   "execution_count": null,
   "metadata": {
    "collapsed": true
   },
   "outputs": [],
   "source": []
  }
 ],
 "metadata": {
  "kernelspec": {
   "display_name": "Python [default]",
   "language": "python",
   "name": "python2"
  },
  "language_info": {
   "codemirror_mode": {
    "name": "ipython",
    "version": 2
   },
   "file_extension": ".py",
   "mimetype": "text/x-python",
   "name": "python",
   "nbconvert_exporter": "python",
   "pygments_lexer": "ipython2",
   "version": "2.7.13"
  }
 },
 "nbformat": 4,
 "nbformat_minor": 2
}
