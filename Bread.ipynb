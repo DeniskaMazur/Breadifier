{
 "cells": [
  {
   "cell_type": "code",
   "execution_count": 1,
   "metadata": {
    "collapsed": true
   },
   "outputs": [],
   "source": [
    "import theano\n",
    "import theano.tensor as T\n",
    "\n",
    "import lasagne"
   ]
  },
  {
   "cell_type": "code",
   "execution_count": 2,
   "metadata": {
    "collapsed": true
   },
   "outputs": [],
   "source": [
    "from lasagne.layers import get_output, get_all_layers, get_all_params\n",
    "\n",
    "from lasagne.layers import Conv2DLayer as ConvLayer\n",
    "from lasagne.layers import Deconv2DLayer as DeconvLayer\n",
    "from lasagne.layers import Pool2DLayer as PoolLayer\n",
    "from lasagne.layers import DenseLayer, InputLayer\n",
    "\n",
    "from lasagne.nonlinearities  import LeakyRectify, sigmoid\n",
    "lref = LeakyRectify(0.2)"
   ]
  },
  {
   "cell_type": "code",
   "execution_count": 4,
   "metadata": {},
   "outputs": [],
   "source": [
    "def buildGenerator(input_shape, input_var=None, n_base_filter=32):\n",
    "    net = {}\n",
    "    \n",
    "    net[\"input\"] = InputLayer(input_shape, input_var)\n",
    "    \n",
    "    net[\"downs_1\"] = ConvLayer(net[\"input\"], n_base_filter, 4)\n",
    "    net[\"downs_2\"] = ConvLayer(net[\"downs_1\"], n_base_filter*2, 4)\n",
    "    net[\"downs_3\"] = ConvLayer(net[\"downs_2\"], n_base_filter*4, 4)\n",
    "    net[\"downs_4\"] = ConvLayer(net[\"downs_3\"], n_base_filter*8, 4)\n",
    "    \n",
    "    net[\"upsc_1\"] = DeconvLayer(net[\"downs_4\"], n_base_filter*8, 4)\n",
    "    net[\"upsc_2\"] = DeconvLayer(net[\"upsc_1\"], n_base_filter*4, 4)\n",
    "    net[\"upsc_3\"] = DeconvLayer(net[\"upsc_2\"], n_base_filter*2, 4)\n",
    "    net[\"output\"] = DeconvLayer(net[\"upsc_3\"], n_base_filter, 4, nonlinearity=None)\n",
    "    \n",
    "    return net"
   ]
  },
  {
   "cell_type": "code",
   "execution_count": 5,
   "metadata": {},
   "outputs": [],
   "source": [
    "def buildDiscriminator(input_shape, input_var=None, n_base_filter=32):\n",
    "    net = {}\n",
    "    \n",
    "    net[\"input\"] = InputLayer(input_shape, input_var)\n",
    "    \n",
    "    net[\"downs_1\"] = ConvLayer(net[\"input\"], n_base_filter, 4, nonlinearity=lref)\n",
    "    net[\"downs_2\"] = ConvLayer(net[\"downs_1\"], n_base_filter*2, 4, nonlinearity=lref)\n",
    "    net[\"downs_3\"] = ConvLayer(net[\"downs_2\"], n_base_filter*4, 4, nonlinearity=lref)\n",
    "    net[\"downs_4\"] = ConvLayer(net[\"downs_3\"], n_base_filter*8, 4, nonlinearity=lref)\n",
    "    \n",
    "    net[\"dense_1\"] = DenseLayer(net[\"downs_4\"], 256, nonlinearity=lref)\n",
    "    net[\"output\"] = DenseLayer(net[\"dense_1\"], 1, nonlinearity=sigmoid)\n",
    "    \n",
    "    return net"
   ]
  },
  {
   "cell_type": "code",
   "execution_count": 6,
   "metadata": {},
   "outputs": [],
   "source": [
    "#defining out variables\n",
    "#REALLY, REALLY sorry for naming variables like a competitive programmer\n",
    "\n",
    "picDims = [None, 3, 128, 128]\n",
    "\n",
    "inputA = T.tensor4(\"Input of A domain\")\n",
    "inputB = T.tensor4(\"Input of B domain\")\n",
    "\n",
    "generatorAB = buildGenerator(picDims, inputA) #converts pictures of domain A to domain B\n",
    "generatorBA = buildGenerator(picDims, inputB) #does the opposite \n",
    "\n",
    "outputAB = get_output(generatorAB[\"output\"], {generatorAB[\"input\"] : inputA}) \n",
    "outputBA = get_output(generatorBA[\"output\"], {generatorBA[\"input\"] : inputB})\n",
    "\n",
    "outputABA = get_output(generatorBA[\"output\"], {generatorBA[\"input\"] : outputAB}) \n",
    "outputBAB = get_output(generatorAB[\"output\"], {generatorAB[\"input\"] : outputBA})"
   ]
  },
  {
   "cell_type": "code",
   "execution_count": 7,
   "metadata": {},
   "outputs": [],
   "source": [
    "#now for the discriminator\n",
    "\n",
    "discriminatorA = buildDiscriminator(picDims)\n",
    "discriminatorB = buildDiscriminator(picDims)\n",
    "\n",
    "legit_a_prob = get_output(discriminatorA[\"output\"], {discriminatorA[\"input\"] : inputA})\n",
    "legit_b_prob = get_output(discriminatorB[\"output\"], {discriminatorB[\"input\"] : inputB})\n",
    "\n",
    "fake_a_prob = get_output(discriminatorA[\"output\"], {discriminatorA[\"input\"] : outputBA})\n",
    "fake_b_prob = get_output(discriminatorB[\"output\"], {discriminatorB[\"input\"] : outputAB})"
   ]
  },
  {
   "cell_type": "code",
   "execution_count": 13,
   "metadata": {
    "collapsed": true
   },
   "outputs": [],
   "source": [
    "#define our losses\n",
    "discrimA_loss = -(T.log(legit_a_prob) + T.log(1 - fake_a_prob)).mean()\n",
    "discrimB_loss = -(T.log(legit_b_prob) + T.log(1 - fake_b_prob)).mean()\n",
    "\n",
    "discrim_loss = discrimA_loss + discrimB_loss\n",
    "\n",
    "l1_a_loss = T.abs_(inputA - outputBtoA).mean()\n",
    "l1_b_loss = T.abs_(inputB - outputAtoB).mean()\n",
    "\n",
    "gan_loss_a = -(T.log(fake_a_prob)).mean()\n",
    "gan_loss_b = -(T.log(fake_b_prob)).mean()\n",
    "\n",
    "generator_loss = l1_a_loss + l1_b_loss + gan_loss_a + gan_loss_b"
   ]
  },
  {
   "cell_type": "code",
   "execution_count": 15,
   "metadata": {},
   "outputs": [],
   "source": [
    "#compile the functions!\n",
    "\n",
    "G_AB_params = get_all_params(generatorAtoB[\"output\"], trainable=True)\n",
    "G_BA_params = get_all_params(generatorBtoA[\"output\"], trainable=True)\n",
    "\n",
    "G_updates = lasagne.updates.adam(generator_loss, G_AB_params+G_BA_params, 2e-4, beta1=0.5)\n",
    "G_train = theano.function([inputA, inputB], generator_loss, updates=G_updates, allow_input_downcast=True)"
   ]
  },
  {
   "cell_type": "code",
   "execution_count": 16,
   "metadata": {
    "collapsed": true
   },
   "outputs": [],
   "source": [
    "D_A_params = get_all_params(discriminatorA[\"output\"], trainable=True)\n",
    "D_B_params = get_all_params(discriminatorB[\"output\"], trainable=True)\n",
    "\n",
    "D_updates = lasagne.updates.adam(discrim_loss, D_A_params + D_B_params)\n",
    "D_train = theano.function([inputA, inputB], discrim_loss, updates=D_updates, allow_input_downcast=True)"
   ]
  },
  {
   "cell_type": "code",
   "execution_count": 17,
   "metadata": {
    "collapsed": true
   },
   "outputs": [],
   "source": [
    "#add training "
   ]
  }
 ],
 "metadata": {
  "kernelspec": {
   "display_name": "Python [default]",
   "language": "python",
   "name": "python2"
  },
  "language_info": {
   "codemirror_mode": {
    "name": "ipython",
    "version": 2
   },
   "file_extension": ".py",
   "mimetype": "text/x-python",
   "name": "python",
   "nbconvert_exporter": "python",
   "pygments_lexer": "ipython2",
   "version": "2.7.13"
  }
 },
 "nbformat": 4,
 "nbformat_minor": 2
}
